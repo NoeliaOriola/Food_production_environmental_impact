{
 "cells": [
  {
   "cell_type": "code",
   "execution_count": 20,
   "id": "13963d8b",
   "metadata": {},
   "outputs": [],
   "source": [
    "import pandas as pd\n",
    "\n",
    "# Read the CSV file\n",
    "df = pd.read_csv('freshwater-withdrawals-as-a-share-of-internal-resources.csv')"
   ]
  },
  {
   "cell_type": "code",
   "execution_count": 21,
   "id": "3c267e93",
   "metadata": {},
   "outputs": [
    {
     "data": {
      "text/html": [
       "<div>\n",
       "<style scoped>\n",
       "    .dataframe tbody tr th:only-of-type {\n",
       "        vertical-align: middle;\n",
       "    }\n",
       "\n",
       "    .dataframe tbody tr th {\n",
       "        vertical-align: top;\n",
       "    }\n",
       "\n",
       "    .dataframe thead th {\n",
       "        text-align: right;\n",
       "    }\n",
       "</style>\n",
       "<table border=\"1\" class=\"dataframe\">\n",
       "  <thead>\n",
       "    <tr style=\"text-align: right;\">\n",
       "      <th></th>\n",
       "      <th>Entity</th>\n",
       "      <th>Code</th>\n",
       "      <th>Year</th>\n",
       "      <th>6.4.2 - Level of water stress: freshwater withdrawal as a proportion of available freshwater resources (%) - ER_H2O_STRESS - No breakdown</th>\n",
       "    </tr>\n",
       "  </thead>\n",
       "  <tbody>\n",
       "    <tr>\n",
       "      <th>0</th>\n",
       "      <td>Afghanistan</td>\n",
       "      <td>AFG</td>\n",
       "      <td>2000</td>\n",
       "      <td>54.76</td>\n",
       "    </tr>\n",
       "    <tr>\n",
       "      <th>1</th>\n",
       "      <td>Afghanistan</td>\n",
       "      <td>AFG</td>\n",
       "      <td>2001</td>\n",
       "      <td>54.76</td>\n",
       "    </tr>\n",
       "    <tr>\n",
       "      <th>2</th>\n",
       "      <td>Afghanistan</td>\n",
       "      <td>AFG</td>\n",
       "      <td>2002</td>\n",
       "      <td>54.76</td>\n",
       "    </tr>\n",
       "    <tr>\n",
       "      <th>3</th>\n",
       "      <td>Afghanistan</td>\n",
       "      <td>AFG</td>\n",
       "      <td>2003</td>\n",
       "      <td>54.76</td>\n",
       "    </tr>\n",
       "    <tr>\n",
       "      <th>4</th>\n",
       "      <td>Afghanistan</td>\n",
       "      <td>AFG</td>\n",
       "      <td>2004</td>\n",
       "      <td>54.76</td>\n",
       "    </tr>\n",
       "  </tbody>\n",
       "</table>\n",
       "</div>"
      ],
      "text/plain": [
       "        Entity Code  Year  \\\n",
       "0  Afghanistan  AFG  2000   \n",
       "1  Afghanistan  AFG  2001   \n",
       "2  Afghanistan  AFG  2002   \n",
       "3  Afghanistan  AFG  2003   \n",
       "4  Afghanistan  AFG  2004   \n",
       "\n",
       "   6.4.2 - Level of water stress: freshwater withdrawal as a proportion of available freshwater resources (%) - ER_H2O_STRESS - No breakdown  \n",
       "0                                              54.76                                                                                          \n",
       "1                                              54.76                                                                                          \n",
       "2                                              54.76                                                                                          \n",
       "3                                              54.76                                                                                          \n",
       "4                                              54.76                                                                                          "
      ]
     },
     "execution_count": 21,
     "metadata": {},
     "output_type": "execute_result"
    }
   ],
   "source": [
    "df.head()"
   ]
  },
  {
   "cell_type": "code",
   "execution_count": 22,
   "id": "f5a825d5",
   "metadata": {},
   "outputs": [
    {
     "data": {
      "text/plain": [
       "<bound method NDFrame.describe of            Entity Code  Year  \\\n",
       "0     Afghanistan  AFG  2000   \n",
       "1     Afghanistan  AFG  2001   \n",
       "2     Afghanistan  AFG  2002   \n",
       "3     Afghanistan  AFG  2003   \n",
       "4     Afghanistan  AFG  2004   \n",
       "...           ...  ...   ...   \n",
       "3682     Zimbabwe  ZWE  2016   \n",
       "3683     Zimbabwe  ZWE  2017   \n",
       "3684     Zimbabwe  ZWE  2018   \n",
       "3685     Zimbabwe  ZWE  2019   \n",
       "3686     Zimbabwe  ZWE  2020   \n",
       "\n",
       "      6.4.2 - Level of water stress: freshwater withdrawal as a proportion of available freshwater resources (%) - ER_H2O_STRESS - No breakdown  \n",
       "0                                                 54.76                                                                                          \n",
       "1                                                 54.76                                                                                          \n",
       "2                                                 54.76                                                                                          \n",
       "3                                                 54.76                                                                                          \n",
       "4                                                 54.76                                                                                          \n",
       "...                                                 ...                                                                                          \n",
       "3682                                              31.94                                                                                          \n",
       "3683                                              31.35                                                                                          \n",
       "3684                                              35.41                                                                                          \n",
       "3685                                              35.41                                                                                          \n",
       "3686                                              35.41                                                                                          \n",
       "\n",
       "[3687 rows x 4 columns]>"
      ]
     },
     "execution_count": 22,
     "metadata": {},
     "output_type": "execute_result"
    }
   ],
   "source": [
    "df.describe"
   ]
  },
  {
   "cell_type": "code",
   "execution_count": 23,
   "id": "c22b5926",
   "metadata": {},
   "outputs": [
    {
     "data": {
      "text/plain": [
       "Entity                                                                                                                                        0\n",
       "Code                                                                                                                                         66\n",
       "Year                                                                                                                                          0\n",
       "6.4.2 - Level of water stress: freshwater withdrawal as a proportion of available freshwater resources (%) - ER_H2O_STRESS - No breakdown     0\n",
       "dtype: int64"
      ]
     },
     "execution_count": 23,
     "metadata": {},
     "output_type": "execute_result"
    }
   ],
   "source": [
    "# Cleaning data: Checking for Missing Values\n",
    "\n",
    "df.isnull().sum()"
   ]
  },
  {
   "cell_type": "code",
   "execution_count": 24,
   "id": "57d6d3b2",
   "metadata": {},
   "outputs": [
    {
     "data": {
      "text/plain": [
       "Entity                                                                                                                                        object\n",
       "Code                                                                                                                                          object\n",
       "Year                                                                                                                                           int64\n",
       "6.4.2 - Level of water stress: freshwater withdrawal as a proportion of available freshwater resources (%) - ER_H2O_STRESS - No breakdown    float64\n",
       "dtype: object"
      ]
     },
     "execution_count": 24,
     "metadata": {},
     "output_type": "execute_result"
    }
   ],
   "source": [
    "df.dtypes"
   ]
  },
  {
   "cell_type": "code",
   "execution_count": 25,
   "id": "9f87754b",
   "metadata": {},
   "outputs": [],
   "source": [
    "#renaming column\n",
    "new_column_names = {'6.4.2 - Level of water stress: freshwater withdrawal as a proportion of available freshwater resources (%) - ER_H2O_STRESS - No breakdown':'water_stress_level'}\n",
    "df = df.rename(columns=new_column_names)"
   ]
  },
  {
   "cell_type": "code",
   "execution_count": 30,
   "id": "11cb873f",
   "metadata": {},
   "outputs": [],
   "source": [
    "new_column_name = {'Entity':'Country'}\n",
    "df=df.rename(columns=new_column_name)"
   ]
  },
  {
   "cell_type": "code",
   "execution_count": 31,
   "id": "e57ed249",
   "metadata": {},
   "outputs": [
    {
     "data": {
      "text/plain": [
       "Index(['Country', 'Code', 'Year', 'water_stress_level'], dtype='object')"
      ]
     },
     "execution_count": 31,
     "metadata": {},
     "output_type": "execute_result"
    }
   ],
   "source": [
    "df.columns"
   ]
  },
  {
   "cell_type": "code",
   "execution_count": 32,
   "id": "b908ffd4",
   "metadata": {},
   "outputs": [],
   "source": [
    "def select_and_drop_countries(df: pd.DataFrame) -> pd.DataFrame:\n",
    "    df2 = df.copy()\n",
    "    countries_to_keep = ['Brazil', 'Colombia', 'Costa Rica', 'Mexico', 'Perú']\n",
    "    df2 = df2[df2['Country'].isin(countries_to_keep)]\n",
    "    return df2"
   ]
  },
  {
   "cell_type": "code",
   "execution_count": 33,
   "id": "b887a76b",
   "metadata": {},
   "outputs": [
    {
     "data": {
      "text/html": [
       "<div>\n",
       "<style scoped>\n",
       "    .dataframe tbody tr th:only-of-type {\n",
       "        vertical-align: middle;\n",
       "    }\n",
       "\n",
       "    .dataframe tbody tr th {\n",
       "        vertical-align: top;\n",
       "    }\n",
       "\n",
       "    .dataframe thead th {\n",
       "        text-align: right;\n",
       "    }\n",
       "</style>\n",
       "<table border=\"1\" class=\"dataframe\">\n",
       "  <thead>\n",
       "    <tr style=\"text-align: right;\">\n",
       "      <th></th>\n",
       "      <th>Country</th>\n",
       "      <th>Code</th>\n",
       "      <th>Year</th>\n",
       "      <th>water_stress_level</th>\n",
       "    </tr>\n",
       "  </thead>\n",
       "  <tbody>\n",
       "    <tr>\n",
       "      <th>420</th>\n",
       "      <td>Brazil</td>\n",
       "      <td>BRA</td>\n",
       "      <td>2000</td>\n",
       "      <td>2.65</td>\n",
       "    </tr>\n",
       "    <tr>\n",
       "      <th>421</th>\n",
       "      <td>Brazil</td>\n",
       "      <td>BRA</td>\n",
       "      <td>2001</td>\n",
       "      <td>2.67</td>\n",
       "    </tr>\n",
       "    <tr>\n",
       "      <th>422</th>\n",
       "      <td>Brazil</td>\n",
       "      <td>BRA</td>\n",
       "      <td>2002</td>\n",
       "      <td>2.68</td>\n",
       "    </tr>\n",
       "    <tr>\n",
       "      <th>423</th>\n",
       "      <td>Brazil</td>\n",
       "      <td>BRA</td>\n",
       "      <td>2003</td>\n",
       "      <td>2.70</td>\n",
       "    </tr>\n",
       "    <tr>\n",
       "      <th>424</th>\n",
       "      <td>Brazil</td>\n",
       "      <td>BRA</td>\n",
       "      <td>2004</td>\n",
       "      <td>2.71</td>\n",
       "    </tr>\n",
       "    <tr>\n",
       "      <th>...</th>\n",
       "      <td>...</td>\n",
       "      <td>...</td>\n",
       "      <td>...</td>\n",
       "      <td>...</td>\n",
       "    </tr>\n",
       "    <tr>\n",
       "      <th>2195</th>\n",
       "      <td>Mexico</td>\n",
       "      <td>MEX</td>\n",
       "      <td>2016</td>\n",
       "      <td>32.48</td>\n",
       "    </tr>\n",
       "    <tr>\n",
       "      <th>2196</th>\n",
       "      <td>Mexico</td>\n",
       "      <td>MEX</td>\n",
       "      <td>2017</td>\n",
       "      <td>32.95</td>\n",
       "    </tr>\n",
       "    <tr>\n",
       "      <th>2197</th>\n",
       "      <td>Mexico</td>\n",
       "      <td>MEX</td>\n",
       "      <td>2018</td>\n",
       "      <td>44.46</td>\n",
       "    </tr>\n",
       "    <tr>\n",
       "      <th>2198</th>\n",
       "      <td>Mexico</td>\n",
       "      <td>MEX</td>\n",
       "      <td>2019</td>\n",
       "      <td>44.72</td>\n",
       "    </tr>\n",
       "    <tr>\n",
       "      <th>2199</th>\n",
       "      <td>Mexico</td>\n",
       "      <td>MEX</td>\n",
       "      <td>2020</td>\n",
       "      <td>44.82</td>\n",
       "    </tr>\n",
       "  </tbody>\n",
       "</table>\n",
       "<p>72 rows × 4 columns</p>\n",
       "</div>"
      ],
      "text/plain": [
       "     Country Code  Year  water_stress_level\n",
       "420   Brazil  BRA  2000                2.65\n",
       "421   Brazil  BRA  2001                2.67\n",
       "422   Brazil  BRA  2002                2.68\n",
       "423   Brazil  BRA  2003                2.70\n",
       "424   Brazil  BRA  2004                2.71\n",
       "...      ...  ...   ...                 ...\n",
       "2195  Mexico  MEX  2016               32.48\n",
       "2196  Mexico  MEX  2017               32.95\n",
       "2197  Mexico  MEX  2018               44.46\n",
       "2198  Mexico  MEX  2019               44.72\n",
       "2199  Mexico  MEX  2020               44.82\n",
       "\n",
       "[72 rows x 4 columns]"
      ]
     },
     "metadata": {},
     "output_type": "display_data"
    }
   ],
   "source": [
    "display(select_and_drop_countries(df))"
   ]
  },
  {
   "cell_type": "code",
   "execution_count": 34,
   "id": "dbdefea2",
   "metadata": {},
   "outputs": [],
   "source": [
    "df = select_and_drop_countries(df)"
   ]
  },
  {
   "cell_type": "code",
   "execution_count": 35,
   "id": "83d8ee12",
   "metadata": {},
   "outputs": [
    {
     "data": {
      "text/plain": [
       "Country               0\n",
       "Code                  0\n",
       "Year                  0\n",
       "water_stress_level    0\n",
       "dtype: int64"
      ]
     },
     "execution_count": 35,
     "metadata": {},
     "output_type": "execute_result"
    }
   ],
   "source": [
    "#Checking for missing values after selecting countries we need and dropping the rest.\n",
    "df.isnull().sum()"
   ]
  },
  {
   "cell_type": "code",
   "execution_count": 43,
   "id": "1db9fb6e",
   "metadata": {},
   "outputs": [],
   "source": [
    "df.to_csv('freshwater-withdrawals-as-a-share-of-internal-resources.csv', index=False)"
   ]
  },
  {
   "cell_type": "code",
   "execution_count": 44,
   "id": "67ac7eaf",
   "metadata": {},
   "outputs": [],
   "source": [
    "#Storing the function select and drop countries in my function file"
   ]
  },
  {
   "cell_type": "code",
   "execution_count": 45,
   "id": "827f907c",
   "metadata": {},
   "outputs": [],
   "source": [
    "function_file = 'my_function.py'  \n",
    "with open(function_file, 'a') as file:\n",
    "    file.write('''\n",
    "def select_and_drop_countries(df: pd.DataFrame) -> pd.DataFrame:\n",
    "    df2 = df.copy()\n",
    "    countries_to_keep = ['Brazil', 'Colombia', 'Costa Rica', 'Mexico', 'Perú']\n",
    "    df2 = df2[df2['Country'].isin(countries_to_keep)]\n",
    "    return df2''')"
   ]
  },
  {
   "cell_type": "code",
   "execution_count": null,
   "id": "4f20e6fa",
   "metadata": {},
   "outputs": [],
   "source": []
  }
 ],
 "metadata": {
  "kernelspec": {
   "display_name": "Python 3 (ipykernel)",
   "language": "python",
   "name": "python3"
  },
  "language_info": {
   "codemirror_mode": {
    "name": "ipython",
    "version": 3
   },
   "file_extension": ".py",
   "mimetype": "text/x-python",
   "name": "python",
   "nbconvert_exporter": "python",
   "pygments_lexer": "ipython3",
   "version": "3.11.5"
  }
 },
 "nbformat": 4,
 "nbformat_minor": 5
}
